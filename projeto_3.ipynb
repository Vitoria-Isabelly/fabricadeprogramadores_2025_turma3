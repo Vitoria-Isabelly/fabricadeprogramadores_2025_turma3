{
 "cells": [
  {
   "cell_type": "code",
   "execution_count": 1,
   "id": "500da690",
   "metadata": {},
   "outputs": [
    {
     "name": "stdout",
     "output_type": "stream",
     "text": [
      "(1, 'Depósito', 3, 3, 'Carla', 'Depósito')\n"
     ]
    }
   ],
   "source": [
    "import sqlite3\n",
    "try:\n",
    "    con = sqlite3.connect(\"segundo_banco.db\")\n",
    "    cur = con.cursor()\n",
    "    \n",
    "    cur.execute(\"CREATE TABLE funcionario(\"+\n",
    "                \"id INTEGER PRIMARY KEY ASC AUTOINCREMENT, \"+\n",
    "                \"nome VARCHAR(250), \"+\n",
    "                \"setor VARCHAR(250))\")\n",
    "\n",
    "    cur.execute(\"CREATE TABLE sala(\"+\n",
    "                \"id INTEGER PRIMARY KEY ASC AUTOINCREMENT,\"+\n",
    "                \"nome VARCHAR(250), \"+\n",
    "                \"id_funcionario INTEGER,\"\n",
    "                \"FOREIGN KEY (id_funcionario) REFERENCES funcionario(id))\")\n",
    "\n",
    "    con.commit()\n",
    "\n",
    "    cur.execute(\"INSERT INTO funcionario (nome, setor) VALUES ('Ana', 'Recepção')\")\n",
    "    cur.execute(\"INSERT INTO funcionario (nome, setor) VALUES ('Bruno', 'Financeiro')\")\n",
    "    cur.execute(\"INSERT INTO funcionario (nome, setor) VALUES ('Carla', 'Depósito')\")\n",
    "    cur.execute(\"INSERT INTO sala (nome, id_funcionario) VALUES ('Depósito', 3)\")\n",
    "    con.commit()\n",
    "\n",
    "    cur.execute(\"SELECT * FROM sala, funcionario WHERE funcionario.id = %d\" % 3)\n",
    "    res = cur.fetchone()\n",
    "    print(res)\n",
    "    cur.close()\n",
    "    con.close()\n",
    "\n",
    "except ConnectionRefusedError as c:\n",
    "    print('Erro de Conexão:', c)\n"
   ]
  }
 ],
 "metadata": {
  "kernelspec": {
   "display_name": ".venv",
   "language": "python",
   "name": "python3"
  },
  "language_info": {
   "codemirror_mode": {
    "name": "ipython",
    "version": 3
   },
   "file_extension": ".py",
   "mimetype": "text/x-python",
   "name": "python",
   "nbconvert_exporter": "python",
   "pygments_lexer": "ipython3",
   "version": "3.13.2"
  }
 },
 "nbformat": 4,
 "nbformat_minor": 5
}
